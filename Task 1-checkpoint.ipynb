{
 "cells": [
  {
   "cell_type": "code",
   "execution_count": 1,
   "id": "f8c62657",
   "metadata": {},
   "outputs": [],
   "source": [
    "import pandas as pd"
   ]
  },
  {
   "cell_type": "code",
   "execution_count": 40,
   "id": "8ddd3e5a",
   "metadata": {},
   "outputs": [],
   "source": [
    "df=pd.read_csv(\"C:\\\\Users\\\\Pavanyadav\\\\Desktop\\\\Pavan M R_CuvetteDS\\\\Pavan M R_ML\\\\ML Dataset.csv\")"
   ]
  },
  {
   "cell_type": "code",
   "execution_count": 41,
   "id": "36b1f376",
   "metadata": {},
   "outputs": [
    {
     "data": {
      "text/html": [
       "<div>\n",
       "<style scoped>\n",
       "    .dataframe tbody tr th:only-of-type {\n",
       "        vertical-align: middle;\n",
       "    }\n",
       "\n",
       "    .dataframe tbody tr th {\n",
       "        vertical-align: top;\n",
       "    }\n",
       "\n",
       "    .dataframe thead th {\n",
       "        text-align: right;\n",
       "    }\n",
       "</style>\n",
       "<table border=\"1\" class=\"dataframe\">\n",
       "  <thead>\n",
       "    <tr style=\"text-align: right;\">\n",
       "      <th></th>\n",
       "      <th>customerID</th>\n",
       "      <th>gender</th>\n",
       "      <th>SeniorCitizen</th>\n",
       "      <th>Partner</th>\n",
       "      <th>Dependents</th>\n",
       "      <th>tenure</th>\n",
       "      <th>PhoneService</th>\n",
       "      <th>MultipleLines</th>\n",
       "      <th>InternetService</th>\n",
       "      <th>OnlineSecurity</th>\n",
       "      <th>...</th>\n",
       "      <th>DeviceProtection</th>\n",
       "      <th>TechSupport</th>\n",
       "      <th>StreamingTV</th>\n",
       "      <th>StreamingMovies</th>\n",
       "      <th>Contract</th>\n",
       "      <th>PaperlessBilling</th>\n",
       "      <th>PaymentMethod</th>\n",
       "      <th>MonthlyCharges</th>\n",
       "      <th>TotalCharges</th>\n",
       "      <th>Churn</th>\n",
       "    </tr>\n",
       "  </thead>\n",
       "  <tbody>\n",
       "    <tr>\n",
       "      <th>0</th>\n",
       "      <td>7590-VHVEG</td>\n",
       "      <td>Female</td>\n",
       "      <td>0</td>\n",
       "      <td>Yes</td>\n",
       "      <td>No</td>\n",
       "      <td>1</td>\n",
       "      <td>No</td>\n",
       "      <td>No phone service</td>\n",
       "      <td>DSL</td>\n",
       "      <td>No</td>\n",
       "      <td>...</td>\n",
       "      <td>No</td>\n",
       "      <td>No</td>\n",
       "      <td>No</td>\n",
       "      <td>No</td>\n",
       "      <td>Month-to-month</td>\n",
       "      <td>Yes</td>\n",
       "      <td>Electronic check</td>\n",
       "      <td>29.85</td>\n",
       "      <td>29.85</td>\n",
       "      <td>No</td>\n",
       "    </tr>\n",
       "    <tr>\n",
       "      <th>1</th>\n",
       "      <td>5575-GNVDE</td>\n",
       "      <td>Male</td>\n",
       "      <td>0</td>\n",
       "      <td>No</td>\n",
       "      <td>No</td>\n",
       "      <td>34</td>\n",
       "      <td>Yes</td>\n",
       "      <td>No</td>\n",
       "      <td>DSL</td>\n",
       "      <td>Yes</td>\n",
       "      <td>...</td>\n",
       "      <td>Yes</td>\n",
       "      <td>No</td>\n",
       "      <td>No</td>\n",
       "      <td>No</td>\n",
       "      <td>One year</td>\n",
       "      <td>No</td>\n",
       "      <td>Mailed check</td>\n",
       "      <td>56.95</td>\n",
       "      <td>1889.5</td>\n",
       "      <td>No</td>\n",
       "    </tr>\n",
       "    <tr>\n",
       "      <th>2</th>\n",
       "      <td>3668-QPYBK</td>\n",
       "      <td>Male</td>\n",
       "      <td>0</td>\n",
       "      <td>No</td>\n",
       "      <td>No</td>\n",
       "      <td>2</td>\n",
       "      <td>Yes</td>\n",
       "      <td>No</td>\n",
       "      <td>DSL</td>\n",
       "      <td>Yes</td>\n",
       "      <td>...</td>\n",
       "      <td>No</td>\n",
       "      <td>No</td>\n",
       "      <td>No</td>\n",
       "      <td>No</td>\n",
       "      <td>Month-to-month</td>\n",
       "      <td>Yes</td>\n",
       "      <td>Mailed check</td>\n",
       "      <td>53.85</td>\n",
       "      <td>108.15</td>\n",
       "      <td>Yes</td>\n",
       "    </tr>\n",
       "    <tr>\n",
       "      <th>3</th>\n",
       "      <td>7795-CFOCW</td>\n",
       "      <td>Male</td>\n",
       "      <td>0</td>\n",
       "      <td>No</td>\n",
       "      <td>No</td>\n",
       "      <td>45</td>\n",
       "      <td>No</td>\n",
       "      <td>No phone service</td>\n",
       "      <td>DSL</td>\n",
       "      <td>Yes</td>\n",
       "      <td>...</td>\n",
       "      <td>Yes</td>\n",
       "      <td>Yes</td>\n",
       "      <td>No</td>\n",
       "      <td>No</td>\n",
       "      <td>One year</td>\n",
       "      <td>No</td>\n",
       "      <td>Bank transfer (automatic)</td>\n",
       "      <td>42.30</td>\n",
       "      <td>1840.75</td>\n",
       "      <td>No</td>\n",
       "    </tr>\n",
       "    <tr>\n",
       "      <th>4</th>\n",
       "      <td>9237-HQITU</td>\n",
       "      <td>Female</td>\n",
       "      <td>0</td>\n",
       "      <td>No</td>\n",
       "      <td>No</td>\n",
       "      <td>2</td>\n",
       "      <td>Yes</td>\n",
       "      <td>No</td>\n",
       "      <td>Fiber optic</td>\n",
       "      <td>No</td>\n",
       "      <td>...</td>\n",
       "      <td>No</td>\n",
       "      <td>No</td>\n",
       "      <td>No</td>\n",
       "      <td>No</td>\n",
       "      <td>Month-to-month</td>\n",
       "      <td>Yes</td>\n",
       "      <td>Electronic check</td>\n",
       "      <td>70.70</td>\n",
       "      <td>151.65</td>\n",
       "      <td>Yes</td>\n",
       "    </tr>\n",
       "  </tbody>\n",
       "</table>\n",
       "<p>5 rows × 21 columns</p>\n",
       "</div>"
      ],
      "text/plain": [
       "   customerID  gender  SeniorCitizen Partner Dependents  tenure PhoneService  \\\n",
       "0  7590-VHVEG  Female              0     Yes         No       1           No   \n",
       "1  5575-GNVDE    Male              0      No         No      34          Yes   \n",
       "2  3668-QPYBK    Male              0      No         No       2          Yes   \n",
       "3  7795-CFOCW    Male              0      No         No      45           No   \n",
       "4  9237-HQITU  Female              0      No         No       2          Yes   \n",
       "\n",
       "      MultipleLines InternetService OnlineSecurity  ... DeviceProtection  \\\n",
       "0  No phone service             DSL             No  ...               No   \n",
       "1                No             DSL            Yes  ...              Yes   \n",
       "2                No             DSL            Yes  ...               No   \n",
       "3  No phone service             DSL            Yes  ...              Yes   \n",
       "4                No     Fiber optic             No  ...               No   \n",
       "\n",
       "  TechSupport StreamingTV StreamingMovies        Contract PaperlessBilling  \\\n",
       "0          No          No              No  Month-to-month              Yes   \n",
       "1          No          No              No        One year               No   \n",
       "2          No          No              No  Month-to-month              Yes   \n",
       "3         Yes          No              No        One year               No   \n",
       "4          No          No              No  Month-to-month              Yes   \n",
       "\n",
       "               PaymentMethod MonthlyCharges  TotalCharges Churn  \n",
       "0           Electronic check          29.85         29.85    No  \n",
       "1               Mailed check          56.95        1889.5    No  \n",
       "2               Mailed check          53.85        108.15   Yes  \n",
       "3  Bank transfer (automatic)          42.30       1840.75    No  \n",
       "4           Electronic check          70.70        151.65   Yes  \n",
       "\n",
       "[5 rows x 21 columns]"
      ]
     },
     "execution_count": 41,
     "metadata": {},
     "output_type": "execute_result"
    }
   ],
   "source": [
    "df.head()"
   ]
  },
  {
   "cell_type": "code",
   "execution_count": 37,
   "id": "06284084",
   "metadata": {},
   "outputs": [],
   "source": [
    "df.describe()\n",
    "data=df"
   ]
  },
  {
   "cell_type": "code",
   "execution_count": 5,
   "id": "097f5641",
   "metadata": {},
   "outputs": [
    {
     "name": "stdout",
     "output_type": "stream",
     "text": [
      "<class 'pandas.core.frame.DataFrame'>\n",
      "RangeIndex: 7043 entries, 0 to 7042\n",
      "Data columns (total 21 columns):\n",
      " #   Column            Non-Null Count  Dtype  \n",
      "---  ------            --------------  -----  \n",
      " 0   customerID        7043 non-null   object \n",
      " 1   gender            7043 non-null   object \n",
      " 2   SeniorCitizen     7043 non-null   int64  \n",
      " 3   Partner           7043 non-null   object \n",
      " 4   Dependents        7043 non-null   object \n",
      " 5   tenure            7043 non-null   int64  \n",
      " 6   PhoneService      7043 non-null   object \n",
      " 7   MultipleLines     7043 non-null   object \n",
      " 8   InternetService   7043 non-null   object \n",
      " 9   OnlineSecurity    7043 non-null   object \n",
      " 10  OnlineBackup      7043 non-null   object \n",
      " 11  DeviceProtection  7043 non-null   object \n",
      " 12  TechSupport       7043 non-null   object \n",
      " 13  StreamingTV       7043 non-null   object \n",
      " 14  StreamingMovies   7043 non-null   object \n",
      " 15  Contract          7043 non-null   object \n",
      " 16  PaperlessBilling  7043 non-null   object \n",
      " 17  PaymentMethod     7043 non-null   object \n",
      " 18  MonthlyCharges    7043 non-null   float64\n",
      " 19  TotalCharges      7043 non-null   object \n",
      " 20  Churn             7043 non-null   object \n",
      "dtypes: float64(1), int64(2), object(18)\n",
      "memory usage: 1.1+ MB\n"
     ]
    }
   ],
   "source": [
    "df.info()"
   ]
  },
  {
   "cell_type": "markdown",
   "id": "35d294cb",
   "metadata": {},
   "source": [
    "# 1    Data Cleaning, Preprocessing And EDA\n"
   ]
  },
  {
   "cell_type": "markdown",
   "id": "de08a8e0",
   "metadata": {},
   "source": [
    "### * Convert TotalCharges to numeric, if not, and handle missing values"
   ]
  },
  {
   "cell_type": "code",
   "execution_count": 6,
   "id": "901d1952",
   "metadata": {},
   "outputs": [],
   "source": [
    "df['TotalCharges'] = pd.to_numeric(df['TotalCharges'], errors='coerce')\n"
   ]
  },
  {
   "cell_type": "code",
   "execution_count": 7,
   "id": "729b3beb",
   "metadata": {},
   "outputs": [
    {
     "name": "stdout",
     "output_type": "stream",
     "text": [
      "11\n"
     ]
    }
   ],
   "source": [
    "print(df['TotalCharges'].isnull().sum())\n"
   ]
  },
  {
   "cell_type": "code",
   "execution_count": 8,
   "id": "f33d0164",
   "metadata": {},
   "outputs": [],
   "source": [
    "df = df.dropna(subset=['TotalCharges'])\n"
   ]
  },
  {
   "cell_type": "code",
   "execution_count": 9,
   "id": "0f06d859",
   "metadata": {},
   "outputs": [],
   "source": [
    "df['TotalCharges'].fillna(df['TotalCharges'].median(), inplace=True)\n"
   ]
  },
  {
   "cell_type": "code",
   "execution_count": 10,
   "id": "1226981d",
   "metadata": {},
   "outputs": [
    {
     "name": "stdout",
     "output_type": "stream",
     "text": [
      "0\n",
      "customerID           object\n",
      "gender               object\n",
      "SeniorCitizen         int64\n",
      "Partner              object\n",
      "Dependents           object\n",
      "tenure                int64\n",
      "PhoneService         object\n",
      "MultipleLines        object\n",
      "InternetService      object\n",
      "OnlineSecurity       object\n",
      "OnlineBackup         object\n",
      "DeviceProtection     object\n",
      "TechSupport          object\n",
      "StreamingTV          object\n",
      "StreamingMovies      object\n",
      "Contract             object\n",
      "PaperlessBilling     object\n",
      "PaymentMethod        object\n",
      "MonthlyCharges      float64\n",
      "TotalCharges        float64\n",
      "Churn                object\n",
      "dtype: object\n"
     ]
    }
   ],
   "source": [
    "print(df['TotalCharges'].isnull().sum())  # Should be 0\n",
    "print(df.dtypes)  # TotalCharges should now be float64\n"
   ]
  },
  {
   "cell_type": "markdown",
   "id": "2b4bc34a",
   "metadata": {},
   "source": [
    "### * Encode categorical variables using one-hot encoding.\n"
   ]
  },
  {
   "cell_type": "code",
   "execution_count": 38,
   "id": "86469b76",
   "metadata": {},
   "outputs": [
    {
     "name": "stdout",
     "output_type": "stream",
     "text": [
      "['gender', 'Partner', 'Dependents', 'PhoneService', 'MultipleLines', 'InternetService', 'OnlineSecurity', 'OnlineBackup', 'DeviceProtection', 'TechSupport', 'StreamingTV', 'StreamingMovies', 'Contract', 'PaperlessBilling', 'PaymentMethod', 'Churn']\n"
     ]
    }
   ],
   "source": [
    "categorical_cols = df.select_dtypes(include=['object']).columns.tolist()\n",
    "print(categorical_cols)\n"
   ]
  },
  {
   "cell_type": "code",
   "execution_count": 12,
   "id": "83a4fe30",
   "metadata": {},
   "outputs": [],
   "source": [
    "#df = df.drop('customerID', axis=1)\n"
   ]
  },
  {
   "cell_type": "code",
   "execution_count": 42,
   "id": "3fb5d6b8",
   "metadata": {},
   "outputs": [
    {
     "data": {
      "text/html": [
       "<div>\n",
       "<style scoped>\n",
       "    .dataframe tbody tr th:only-of-type {\n",
       "        vertical-align: middle;\n",
       "    }\n",
       "\n",
       "    .dataframe tbody tr th {\n",
       "        vertical-align: top;\n",
       "    }\n",
       "\n",
       "    .dataframe thead th {\n",
       "        text-align: right;\n",
       "    }\n",
       "</style>\n",
       "<table border=\"1\" class=\"dataframe\">\n",
       "  <thead>\n",
       "    <tr style=\"text-align: right;\">\n",
       "      <th></th>\n",
       "      <th>customerID</th>\n",
       "      <th>gender</th>\n",
       "      <th>SeniorCitizen</th>\n",
       "      <th>Partner</th>\n",
       "      <th>Dependents</th>\n",
       "      <th>tenure</th>\n",
       "      <th>PhoneService</th>\n",
       "      <th>MultipleLines</th>\n",
       "      <th>InternetService</th>\n",
       "      <th>OnlineSecurity</th>\n",
       "      <th>...</th>\n",
       "      <th>DeviceProtection</th>\n",
       "      <th>TechSupport</th>\n",
       "      <th>StreamingTV</th>\n",
       "      <th>StreamingMovies</th>\n",
       "      <th>Contract</th>\n",
       "      <th>PaperlessBilling</th>\n",
       "      <th>PaymentMethod</th>\n",
       "      <th>MonthlyCharges</th>\n",
       "      <th>TotalCharges</th>\n",
       "      <th>Churn</th>\n",
       "    </tr>\n",
       "  </thead>\n",
       "  <tbody>\n",
       "    <tr>\n",
       "      <th>0</th>\n",
       "      <td>7590-VHVEG</td>\n",
       "      <td>Female</td>\n",
       "      <td>0</td>\n",
       "      <td>Yes</td>\n",
       "      <td>No</td>\n",
       "      <td>1</td>\n",
       "      <td>No</td>\n",
       "      <td>No phone service</td>\n",
       "      <td>DSL</td>\n",
       "      <td>No</td>\n",
       "      <td>...</td>\n",
       "      <td>No</td>\n",
       "      <td>No</td>\n",
       "      <td>No</td>\n",
       "      <td>No</td>\n",
       "      <td>Month-to-month</td>\n",
       "      <td>Yes</td>\n",
       "      <td>Electronic check</td>\n",
       "      <td>29.85</td>\n",
       "      <td>29.85</td>\n",
       "      <td>No</td>\n",
       "    </tr>\n",
       "    <tr>\n",
       "      <th>1</th>\n",
       "      <td>5575-GNVDE</td>\n",
       "      <td>Male</td>\n",
       "      <td>0</td>\n",
       "      <td>No</td>\n",
       "      <td>No</td>\n",
       "      <td>34</td>\n",
       "      <td>Yes</td>\n",
       "      <td>No</td>\n",
       "      <td>DSL</td>\n",
       "      <td>Yes</td>\n",
       "      <td>...</td>\n",
       "      <td>Yes</td>\n",
       "      <td>No</td>\n",
       "      <td>No</td>\n",
       "      <td>No</td>\n",
       "      <td>One year</td>\n",
       "      <td>No</td>\n",
       "      <td>Mailed check</td>\n",
       "      <td>56.95</td>\n",
       "      <td>1889.5</td>\n",
       "      <td>No</td>\n",
       "    </tr>\n",
       "  </tbody>\n",
       "</table>\n",
       "<p>2 rows × 21 columns</p>\n",
       "</div>"
      ],
      "text/plain": [
       "   customerID  gender  SeniorCitizen Partner Dependents  tenure PhoneService  \\\n",
       "0  7590-VHVEG  Female              0     Yes         No       1           No   \n",
       "1  5575-GNVDE    Male              0      No         No      34          Yes   \n",
       "\n",
       "      MultipleLines InternetService OnlineSecurity  ... DeviceProtection  \\\n",
       "0  No phone service             DSL             No  ...               No   \n",
       "1                No             DSL            Yes  ...              Yes   \n",
       "\n",
       "  TechSupport StreamingTV StreamingMovies        Contract PaperlessBilling  \\\n",
       "0          No          No              No  Month-to-month              Yes   \n",
       "1          No          No              No        One year               No   \n",
       "\n",
       "      PaymentMethod MonthlyCharges  TotalCharges Churn  \n",
       "0  Electronic check          29.85         29.85    No  \n",
       "1      Mailed check          56.95        1889.5    No  \n",
       "\n",
       "[2 rows x 21 columns]"
      ]
     },
     "execution_count": 42,
     "metadata": {},
     "output_type": "execute_result"
    }
   ],
   "source": [
    "df.head(2)"
   ]
  },
  {
   "cell_type": "code",
   "execution_count": 15,
   "id": "7b2213bf",
   "metadata": {},
   "outputs": [],
   "source": [
    "df_encoded = pd.get_dummies(df, drop_first=True)\n"
   ]
  },
  {
   "cell_type": "code",
   "execution_count": 16,
   "id": "4c7cb2ea",
   "metadata": {},
   "outputs": [
    {
     "name": "stdout",
     "output_type": "stream",
     "text": [
      "   SeniorCitizen  tenure  MonthlyCharges  TotalCharges  gender_Male  \\\n",
      "0              0       1           29.85         29.85        False   \n",
      "1              0      34           56.95       1889.50         True   \n",
      "2              0       2           53.85        108.15         True   \n",
      "3              0      45           42.30       1840.75         True   \n",
      "4              0       2           70.70        151.65        False   \n",
      "\n",
      "   Partner_Yes  Dependents_Yes  PhoneService_Yes  \\\n",
      "0         True           False             False   \n",
      "1        False           False              True   \n",
      "2        False           False              True   \n",
      "3        False           False             False   \n",
      "4        False           False              True   \n",
      "\n",
      "   MultipleLines_No phone service  MultipleLines_Yes  ...  StreamingTV_Yes  \\\n",
      "0                            True              False  ...            False   \n",
      "1                           False              False  ...            False   \n",
      "2                           False              False  ...            False   \n",
      "3                            True              False  ...            False   \n",
      "4                           False              False  ...            False   \n",
      "\n",
      "   StreamingMovies_No internet service  StreamingMovies_Yes  \\\n",
      "0                                False                False   \n",
      "1                                False                False   \n",
      "2                                False                False   \n",
      "3                                False                False   \n",
      "4                                False                False   \n",
      "\n",
      "   Contract_One year  Contract_Two year  PaperlessBilling_Yes  \\\n",
      "0              False              False                  True   \n",
      "1               True              False                 False   \n",
      "2              False              False                  True   \n",
      "3               True              False                 False   \n",
      "4              False              False                  True   \n",
      "\n",
      "   PaymentMethod_Credit card (automatic)  PaymentMethod_Electronic check  \\\n",
      "0                                  False                            True   \n",
      "1                                  False                           False   \n",
      "2                                  False                           False   \n",
      "3                                  False                           False   \n",
      "4                                  False                            True   \n",
      "\n",
      "   PaymentMethod_Mailed check  Churn_Yes  \n",
      "0                       False      False  \n",
      "1                        True      False  \n",
      "2                        True       True  \n",
      "3                       False      False  \n",
      "4                       False       True  \n",
      "\n",
      "[5 rows x 31 columns]\n",
      "(7032, 31)\n"
     ]
    }
   ],
   "source": [
    "print(df_encoded.head())\n",
    "print(df_encoded.shape)\n"
   ]
  },
  {
   "cell_type": "markdown",
   "id": "eb2fc00a",
   "metadata": {},
   "source": [
    "### *  Distribution of churn by Contract."
   ]
  },
  {
   "cell_type": "code",
   "execution_count": 17,
   "id": "f5d7542d",
   "metadata": {},
   "outputs": [],
   "source": [
    "import pandas as pd\n",
    "import seaborn as sns\n",
    "import matplotlib.pyplot as plt\n",
    "\n",
    "\n",
    "churn_contract = df.groupby(['Contract', 'Churn']).size().reset_index(name='Count')\n"
   ]
  },
  {
   "cell_type": "code",
   "execution_count": 18,
   "id": "5af48821",
   "metadata": {},
   "outputs": [
    {
     "data": {
      "image/png": "[encoded data removed]",
      "text/plain": [
       "<Figure size 800x600 with 1 Axes>"
      ]
     },
     "metadata": {},
     "output_type": "display_data"
    }
   ],
   "source": [
    "plt.figure(figsize=(8, 6))\n",
    "sns.barplot(data=churn_contract, x='Contract', y='Count', hue='Churn')\n",
    "plt.title('Churn Distribution by Contract Type')\n",
    "plt.ylabel('Number of Customers')\n",
    "plt.xticks(rotation=15)\n",
    "plt.tight_layout()\n",
    "plt.show()\n"
   ]
  },
  {
   "cell_type": "markdown",
   "id": "c281bd85",
   "metadata": {},
   "source": [
    "### * Average tenure of churned vs non-churned customers.\n"
   ]
  },
  {
   "cell_type": "code",
   "execution_count": 19,
   "id": "36cbc901",
   "metadata": {},
   "outputs": [
    {
     "name": "stdout",
     "output_type": "stream",
     "text": [
      "  Churn  Average_Tenure\n",
      "0    No       37.650010\n",
      "1   Yes       17.979133\n"
     ]
    }
   ],
   "source": [
    "\n",
    "avg_tenure = df.groupby('Churn')['tenure'].mean().reset_index()\n",
    "\n",
    "\n",
    "avg_tenure.columns = ['Churn', 'Average_Tenure']\n",
    "\n",
    "print(avg_tenure)\n"
   ]
  },
  {
   "cell_type": "code",
   "execution_count": 20,
   "id": "f53f84c3",
   "metadata": {},
   "outputs": [
    {
     "data": {
      "image/png": "[encoded data removed]",
      "text/plain": [
       "<Figure size 600x400 with 1 Axes>"
      ]
     },
     "metadata": {},
     "output_type": "display_data"
    }
   ],
   "source": [
    "import seaborn as sns\n",
    "import matplotlib.pyplot as plt\n",
    "\n",
    "plt.figure(figsize=(6, 4))\n",
    "sns.barplot(data=avg_tenure, x='Churn', y='Average_Tenure', palette='Set2')\n",
    "plt.title('Average Tenure of Churned vs Non-Churned Customers')\n",
    "plt.ylabel('Average Tenure (Months)')\n",
    "plt.xlabel('Churn Status')\n",
    "plt.tight_layout()\n",
    "plt.show()\n"
   ]
  },
  {
   "cell_type": "markdown",
   "id": "34bd05b6",
   "metadata": {},
   "source": [
    "### *  MonthlyCharges versus Churn."
   ]
  },
  {
   "cell_type": "code",
   "execution_count": 30,
   "id": "114b4a63",
   "metadata": {},
   "outputs": [
    {
     "name": "stdout",
     "output_type": "stream",
     "text": [
      "  Churn  Monthly_Charges\n",
      "0    No        61.307408\n",
      "1   Yes        74.441332\n"
     ]
    }
   ],
   "source": [
    "#monthly=df.groupby('Churn')['MonthlyCharges'].mean().reset_index()\n",
    "#monthly.columns(['churn','monthly_charges'])\n",
    "\n",
    "monthly = df.groupby('Churn')['MonthlyCharges'].mean().reset_index()\n",
    "monthly.columns = ['Churn', 'Monthly_Charges']\n",
    "\n",
    "print(monthly)\n"
   ]
  },
  {
   "cell_type": "code",
   "execution_count": 29,
   "id": "6e1093f7",
   "metadata": {},
   "outputs": [
    {
     "data": {
      "image/png": "[encoded data removed]",
      "text/plain": [
       "<Figure size 600x400 with 1 Axes>"
      ]
     },
     "metadata": {},
     "output_type": "display_data"
    }
   ],
   "source": [
    "plt.figure(figsize=(6,4))\n",
    "sns.barplot(data=monthly, x='Churn', y='Monthly_Charges', palette='Set2')\n",
    "plt.title('MonthlyCharges of Churm')\n",
    "plt.ylabel('Monthlycharges')\n",
    "plt.title('Churn')\n",
    "plt.show()"
   ]
  },
  {
   "cell_type": "code",
   "execution_count": 31,
   "id": "b55824ca",
   "metadata": {},
   "outputs": [
    {
     "data": {
      "image/png": "[encoded data removed]",
      "text/plain": [
       "<Figure size 640x480 with 1 Axes>"
      ]
     },
     "metadata": {},
     "output_type": "display_data"
    }
   ],
   "source": [
    "sns.boxplot(data=df, x='Churn', y='MonthlyCharges')\n",
    "plt.title('Monthly Charges Distribution by Churn')\n",
    "plt.ylabel('Monthly Charges')\n",
    "plt.show()\n"
   ]
  },
  {
   "cell_type": "markdown",
   "id": "1049d669",
   "metadata": {},
   "source": [
    "#   Feature Engineering\n"
   ]
  },
  {
   "cell_type": "markdown",
   "id": "ce5a9c3d",
   "metadata": {},
   "source": [
    "### *  Create a binary variable for \"High Monthly Charge\" (> $80).\n"
   ]
  },
  {
   "cell_type": "code",
   "execution_count": 33,
   "id": "aa171a7c",
   "metadata": {},
   "outputs": [],
   "source": [
    "df['HighMonthlyCharge'] = df['MonthlyCharges'].apply(lambda x: 1 if x > 80 else 0)\n"
   ]
  },
  {
   "cell_type": "code",
   "execution_count": 34,
   "id": "fc9f16b0",
   "metadata": {},
   "outputs": [],
   "source": [
    "df['TenureYears'] = df['tenure'] / 12\n"
   ]
  },
  {
   "cell_type": "markdown",
   "id": "0a10a1d1",
   "metadata": {},
   "source": [
    "### * Bin MonthlyCharges into Categories"
   ]
  },
  {
   "cell_type": "code",
   "execution_count": 35,
   "id": "db313235",
   "metadata": {},
   "outputs": [],
   "source": [
    "bins = [0, 35, 70, 105]\n",
    "labels = ['Low', 'Medium', 'High']\n",
    "df['MonthlyChargeCategory'] = pd.cut(df['MonthlyCharges'], bins=bins, labels=labels)\n"
   ]
  },
  {
   "cell_type": "markdown",
   "id": "4f8f0b3f",
   "metadata": {},
   "source": [
    "#  Modeling\n"
   ]
  },
  {
   "cell_type": "markdown",
   "id": "ccd4c376",
   "metadata": {},
   "source": [
    "### * Split into Training and Test Sets"
   ]
  },
  {
   "cell_type": "code",
   "execution_count": 43,
   "id": "e620c92b",
   "metadata": {},
   "outputs": [],
   "source": [
    "from sklearn.model_selection import train_test_split\n",
    "\n",
    "# Features (drop columns not needed)\n",
    "X = df.drop(columns=['customerID', 'Churn'])  # or 'TotalCharges' if still object\n",
    "y = df['Churn'].apply(lambda x: 1 if x == 'Yes' else 0)  # Encode target\n",
    "\n",
    "# Split dataset\n",
    "X_train, X_test, y_train, y_test = train_test_split(X, y, test_size=0.2, random_state=42)\n"
   ]
  },
  {
   "cell_type": "markdown",
   "id": "2c544023",
   "metadata": {},
   "source": [
    "### * Preprocess: One-Hot Encoding & Scaling"
   ]
  },
  {
   "cell_type": "code",
   "execution_count": 44,
   "id": "0b8321dc",
   "metadata": {},
   "outputs": [],
   "source": [
    "from sklearn.preprocessing import OneHotEncoder, StandardScaler\n",
    "from sklearn.compose import ColumnTransformer\n",
    "from sklearn.pipeline import Pipeline\n",
    "from sklearn.impute import SimpleImputer\n",
    "from sklearn.ensemble import RandomForestClassifier, GradientBoostingClassifier\n",
    "from sklearn.linear_model import LogisticRegression\n",
    "from sklearn.metrics import classification_report, roc_auc_score, roc_curve\n",
    "\n",
    "# Separate numeric and categorical columns\n",
    "num_cols = X.select_dtypes(include=['int64', 'float64']).columns\n",
    "cat_cols = X.select_dtypes(include=['object']).columns\n",
    "\n",
    "# Create preprocessing pipeline\n",
    "preprocessor = ColumnTransformer([\n",
    "    ('num', StandardScaler(), num_cols),\n",
    "    ('cat', OneHotEncoder(handle_unknown='ignore'), cat_cols)\n",
    "])\n"
   ]
  },
  {
   "cell_type": "markdown",
   "id": "90e2a192",
   "metadata": {},
   "source": [
    "### *  Build Models (Logistic, Random Forest, Gradient Boosting)"
   ]
  },
  {
   "cell_type": "code",
   "execution_count": 46,
   "id": "21caf2b2",
   "metadata": {},
   "outputs": [],
   "source": [
    "from sklearn.linear_model import LogisticRegression\n",
    "\n",
    "lr_pipe = Pipeline([\n",
    "    ('preprocess', preprocessor),\n",
    "    ('model', LogisticRegression(max_iter=1000))\n",
    "])\n"
   ]
  },
  {
   "cell_type": "code",
   "execution_count": 47,
   "id": "613a6a74",
   "metadata": {},
   "outputs": [],
   "source": [
    "rf_pipe = Pipeline([\n",
    "    ('preprocess', preprocessor),\n",
    "    ('model', RandomForestClassifier(n_estimators=100, random_state=42))\n",
    "])\n"
   ]
  },
  {
   "cell_type": "code",
   "execution_count": 48,
   "id": "c15a1074",
   "metadata": {},
   "outputs": [],
   "source": [
    "gb_pipe = Pipeline([\n",
    "    ('preprocess', preprocessor),\n",
    "    ('model', GradientBoostingClassifier(n_estimators=100, random_state=42))\n",
    "])\n"
   ]
  },
  {
   "cell_type": "markdown",
   "id": "ae54d82a",
   "metadata": {},
   "source": [
    "### *Cross-Validation"
   ]
  },
  {
   "cell_type": "code",
   "execution_count": 49,
   "id": "f8140fea",
   "metadata": {},
   "outputs": [
    {
     "name": "stdout",
     "output_type": "stream",
     "text": [
      "Logistic Mean Accuracy: 0.8003\n",
      "Random Forest Mean Accuracy: 0.7858\n",
      "GB Mean Accuracy: 0.8000\n"
     ]
    }
   ],
   "source": [
    "from sklearn.model_selection import cross_val_score\n",
    "\n",
    "# Cross-validate accuracy\n",
    "for name, pipe in [('Logistic', lr_pipe), ('Random Forest', rf_pipe), ('GB', gb_pipe)]:\n",
    "    scores = cross_val_score(pipe, X_train, y_train, cv=5, scoring='accuracy')\n",
    "    print(f\"{name} Mean Accuracy: {scores.mean():.4f}\")\n"
   ]
  },
  {
   "cell_type": "markdown",
   "id": "74c700d9",
   "metadata": {},
   "source": [
    "### * Train and Evaluate\n"
   ]
  },
  {
   "cell_type": "code",
   "execution_count": 50,
   "id": "fa3830dc",
   "metadata": {},
   "outputs": [
    {
     "name": "stdout",
     "output_type": "stream",
     "text": [
      "\n",
      "=== Logistic ===\n",
      "              precision    recall  f1-score   support\n",
      "\n",
      "           0       0.86      0.91      0.88      1036\n",
      "           1       0.69      0.60      0.64       373\n",
      "\n",
      "    accuracy                           0.82      1409\n",
      "   macro avg       0.78      0.75      0.76      1409\n",
      "weighted avg       0.82      0.82      0.82      1409\n",
      "\n",
      "AUC-ROC: 0.8608\n",
      "\n",
      "=== Random Forest ===\n",
      "              precision    recall  f1-score   support\n",
      "\n",
      "           0       0.83      0.91      0.87      1036\n",
      "           1       0.65      0.47      0.55       373\n",
      "\n",
      "    accuracy                           0.79      1409\n",
      "   macro avg       0.74      0.69      0.71      1409\n",
      "weighted avg       0.78      0.79      0.78      1409\n",
      "\n",
      "AUC-ROC: 0.8337\n",
      "\n",
      "=== GB ===\n",
      "              precision    recall  f1-score   support\n",
      "\n",
      "           0       0.84      0.92      0.88      1036\n",
      "           1       0.70      0.52      0.60       373\n",
      "\n",
      "    accuracy                           0.81      1409\n",
      "   macro avg       0.77      0.72      0.74      1409\n",
      "weighted avg       0.80      0.81      0.80      1409\n",
      "\n",
      "AUC-ROC: 0.8626\n"
     ]
    }
   ],
   "source": [
    "# Fit and Predict\n",
    "for name, pipe in [('Logistic', lr_pipe), ('Random Forest', rf_pipe), ('GB', gb_pipe)]:\n",
    "    print(f\"\\n=== {name} ===\")\n",
    "    pipe.fit(X_train, y_train)\n",
    "    y_pred = pipe.predict(X_test)\n",
    "    y_prob = pipe.predict_proba(X_test)[:,1]\n",
    "\n",
    "    # Evaluation\n",
    "    print(classification_report(y_test, y_pred))\n",
    "    print(f\"AUC-ROC: {roc_auc_score(y_test, y_prob):.4f}\")\n"
   ]
  },
  {
   "cell_type": "code",
   "execution_count": 51,
   "id": "ee819d38",
   "metadata": {},
   "outputs": [
    {
     "data": {
      "image/png": "[encoded data removed]",
      "text/plain": [
       "<Figure size 800x600 with 1 Axes>"
      ]
     },
     "metadata": {},
     "output_type": "display_data"
    }
   ],
   "source": [
    "import matplotlib.pyplot as plt\n",
    "from sklearn.metrics import roc_curve\n",
    "\n",
    "plt.figure(figsize=(8,6))\n",
    "\n",
    "for name, pipe in [('Logistic', lr_pipe), ('Random Forest', rf_pipe), ('GB', gb_pipe)]:\n",
    "    pipe.fit(X_train, y_train)\n",
    "    y_prob = pipe.predict_proba(X_test)[:, 1]\n",
    "    fpr, tpr, _ = roc_curve(y_test, y_prob)\n",
    "    plt.plot(fpr, tpr, label=f'{name} (AUC = {roc_auc_score(y_test, y_prob):.2f})')\n",
    "\n",
    "plt.plot([0,1], [0,1], 'k--')\n",
    "plt.xlabel('False Positive Rate')\n",
    "plt.ylabel('True Positive Rate')\n",
    "plt.title('AUC-ROC Curve')\n",
    "plt.legend()\n",
    "plt.grid(True)\n",
    "plt.show()\n"
   ]
  },
  {
   "cell_type": "code",
   "execution_count": null,
   "id": "6f0e68b0",
   "metadata": {},
   "outputs": [],
   "source": []
  }
 ],
 "metadata": {
  "kernelspec": {
   "display_name": "Python 3 (ipykernel)",
   "language": "python",
   "name": "python3"
  },
  "language_info": {
   "codemirror_mode": {
    "name": "ipython",
    "version": 3
   },
   "file_extension": ".py",
   "mimetype": "text/x-python",
   "name": "python",
   "nbconvert_exporter": "python",
   "pygments_lexer": "ipython3",
   "version": "3.11.5"
  }
 },
 "nbformat": 4,
 "nbformat_minor": 5
}
